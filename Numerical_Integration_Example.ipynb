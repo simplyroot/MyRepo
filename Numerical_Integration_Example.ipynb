{
  "nbformat": 4,
  "nbformat_minor": 0,
  "metadata": {
    "colab": {
      "name": "Numerical_Integration_Example.ipynb",
      "provenance": [],
      "include_colab_link": true
    },
    "kernelspec": {
      "name": "python3",
      "display_name": "Python 3"
    }
  },
  "cells": [
    {
      "cell_type": "markdown",
      "metadata": {
        "id": "view-in-github",
        "colab_type": "text"
      },
      "source": [
        "<a href=\"https://colab.research.google.com/github/simplyroot/MyRepo/blob/main/Numerical_Integration_Example.ipynb\" target=\"_parent\"><img src=\"https://colab.research.google.com/assets/colab-badge.svg\" alt=\"Open In Colab\"/></a>"
      ]
    },
    {
      "cell_type": "markdown",
      "metadata": {
        "id": "u7d3J_hYjB6s"
      },
      "source": [
        "Numerical Integration\n",
        "---------------------\n",
        "\n",
        "Here is an introduction to Numerical Integration with Python!"
      ]
    },
    {
      "cell_type": "markdown",
      "metadata": {
        "id": "yKxwQsM8jQdi"
      },
      "source": [
        "Let's look at a simple function:\n",
        "\n",
        "\\begin{align}g(x) = x^2+x^3\\end{align}\n",
        "\n",
        "which we know the analytical integral as:\n",
        "\n",
        "\\begin{align}G(x) = - \\frac{1}{3} x^3 + \\frac{1}{4} x^4\\end{align}\n",
        "\n",
        "and let's integrate that from m to M using p points. Compare it with analytical result.\n",
        "\n",
        "\n"
      ]
    },
    {
      "cell_type": "code",
      "metadata": {
        "id": "9POCep3ht01E"
      },
      "source": [
        "import numpy as np\n",
        "import matplotlib.pyplot as plt\n",
        "#plt.style.use('ggplot')\n",
        "\n",
        "# Initial function given\n",
        "def f(x):\n",
        "    y = x**2 + x**3\n",
        "    return y\n",
        "\n",
        "\n",
        "# Definite integral of the function from a to b\n",
        "def F(a,b):\n",
        "    if a > b:\n",
        "        raise ValueError('b must be greater than a')\n",
        "    elif a == b:\n",
        "        return 0\n",
        "    else:\n",
        "        y = (b**3-a**3)/3 + (b**4-a**4)/4\n",
        "        return y\n"
      ],
      "execution_count": null,
      "outputs": []
    },
    {
      "cell_type": "code",
      "metadata": {
        "id": "4i4V7MXEuJmW"
      },
      "source": [
        "\n",
        "# Approximating function using numerical methods:\n",
        "    # rectangular\n",
        "    # trapezoidal\n",
        "def approximateNumerical(a,b,points=10,error=False,mod='rectangular',plt_data=False):\n",
        "    if points < 2:\n",
        "        raise ValueError('Number of points must be greater than 2')\n",
        "    if a == b:\n",
        "        return 0\n",
        "    n = np.linspace(a,b,points)\n",
        "    partialSum = 0\n",
        "    if mod == 'rectangular':\n",
        "        def miniArea(c,d):\n",
        "            return (d-c)*f((c+d)/2)\n",
        "    elif mod == 'trapezoidal':\n",
        "        def miniArea(c,d):\n",
        "            return (d-c)*(f(c)+f(d))/2\n",
        "    else:\n",
        "        raise ValueError('Method '+mod+' unknown')\n",
        "\n",
        "    for i in range(1,len(n)):\n",
        "        partialSum += miniArea(n[i-1],n[i])\n",
        "    e = (partialSum-F(a,b))/F(a,b) *100\n",
        "    if error:\n",
        "        print('\\nApproximating using '+ mod+' rule...')\n",
        "        print('Percentage error: ',e,'%')\n",
        "\n",
        "    if plt_data:\n",
        "        plot_dat(a,b,points,mod=mod)\n",
        "\n",
        "    return partialSum,e"
      ],
      "execution_count": null,
      "outputs": []
    },
    {
      "cell_type": "code",
      "metadata": {
        "id": "Tpi_uprouYQo"
      },
      "source": [
        "# Plotting function for a visual representation\n",
        "def plot_dat(a,b,points,mod='rectangular'):\n",
        "\n",
        "    n = np.linspace(a,b,points)\n",
        "    plt.plot(n,f(n),color='red')\n",
        "    plt.xlabel('x')\n",
        "    plt.ylabel('y')\n",
        "    plt.title('Numerical approximation: '+mod)\n",
        "    if mod == 'rectangular':\n",
        "        for i in range(1,len(n)):\n",
        "            c = n[i-1]\n",
        "            d = n[i]\n",
        "            plt.plot([c,c],[0,f((c+d)/2)],color='blue')\n",
        "            plt.plot([d,d],[0,f(d)],color='blue')\n",
        "            plt.plot([c,d],[f((c+d)/2),f((c+d)/2)],color='blue')\n",
        "        plt.show()\n",
        "    if mod == 'trapezoidal':\n",
        "        for i in range(1,len(n)):\n",
        "            c = n[i-1]\n",
        "            d = n[i]\n",
        "            plt.plot([d,d],[0,f(d)],color='blue')\n",
        "            plt.plot([c,c],[0,f(c)],color='blue')\n",
        "            plt.plot([c,d],[f(c),f(d)],color='blue')\n",
        "        plt.show()\n",
        "    return 0\n"
      ],
      "execution_count": null,
      "outputs": []
    },
    {
      "cell_type": "code",
      "metadata": {
        "id": "UP4FzyEfubnM"
      },
      "source": [
        "# Approximate area with a given precision\n",
        "def approxGivenPrecision(a,b,error=0.5,mod='rectangular',printf=False):\n",
        "    e = 100\n",
        "    p = 5\n",
        "    itMax = 500\n",
        "    it = 0\n",
        "    while abs(e) > error:\n",
        "        area,e = approximateNumerical(a,b,mod=mod,points=p)\n",
        "        p += 10\n",
        "        it += 1\n",
        "        if printf:\n",
        "            print('Approximating using '+mod+' rule with:',p,'points, percentage error:',e,'%')\n",
        "        if it > itMax:\n",
        "            print('Number of iterations exceeded: '+str(itMax))\n",
        "            break\n",
        "    return area"
      ],
      "execution_count": null,
      "outputs": []
    },
    {
      "cell_type": "code",
      "metadata": {
        "id": "hqxCk5o5tl3M",
        "outputId": "c21c1aec-d285-4216-8277-9cbecb90b361",
        "colab": {
          "base_uri": "https://localhost:8080/",
          "height": 955
        }
      },
      "source": [
        "\n",
        "\n",
        "#-----------------------------Run the program----------------------------------\n",
        "\n",
        "# Initial parameters:\n",
        "    # xmin = m\n",
        "    # xmax = M\n",
        "    # points used = p\n",
        "\n",
        "m = 0\n",
        "M = 25\n",
        "p = 50\n",
        "\n",
        "\n",
        "print('Actual area:',F(m,M))\n",
        "print('Approximation:',approximateNumerical(m,M,p,error=True,plt_data=True))\n",
        "print('Approximation:',approximateNumerical(m,M,p,mod='trapezoidal',error=True,plt_data=True))\n",
        "print('#############################################################')\n",
        "print(approxGivenPrecision(m,M,error=0.05,printf=True))\n",
        "print(approxGivenPrecision(m,M,error=0.05,mod='trapezoidal',printf=True))"
      ],
      "execution_count": null,
      "outputs": [
        {
          "output_type": "stream",
          "text": [
            "Actual area: 102864.58333333333\n",
            "\n",
            "Approximating using rectangular rule...\n",
            "Percentage error:  -0.020297449902204584 %\n"
          ],
          "name": "stdout"
        },
        {
          "output_type": "display_data",
          "data": {
            "image/png": "[encoded data removed]",
            "text/plain": [
              "<Figure size 432x288 with 1 Axes>"
            ]
          },
          "metadata": {
            "tags": []
          }
        },
        {
          "output_type": "stream",
          "text": [
            "Approximation: (102843.70444606413, -0.020297449902204584)\n",
            "\n",
            "Approximating using trapezoidal rule...\n",
            "Percentage error:  0.04059489980440917 %\n"
          ],
          "name": "stdout"
        },
        {
          "output_type": "display_data",
          "data": {
            "image/png": "[encoded data removed]",
            "text/plain": [
              "<Figure size 432x288 with 1 Axes>"
            ]
          },
          "metadata": {
            "tags": []
          }
        },
        {
          "output_type": "stream",
          "text": [
            "Approximation: (102906.34110787172, 0.04059489980440917)\n",
            "#############################################################\n",
            "Approximating using rectangular rule with: 15 points, percentage error: -3.0458860759493627 %\n",
            "Approximating using rectangular rule with: 25 points, percentage error: -0.2486437613019885 %\n",
            "Approximating using rectangular rule with: 35 points, percentage error: -0.08460794655415171 %\n",
            "Approximating using rectangular rule with: 45 points, percentage error: -0.04215759274669086 %\n",
            "102821.21810121108\n",
            "Approximating using trapezoidal rule with: 15 points, percentage error: 6.091772151898739 %\n",
            "Approximating using trapezoidal rule with: 25 points, percentage error: 0.497287522603977 %\n",
            "Approximating using trapezoidal rule with: 35 points, percentage error: 0.16921589310831756 %\n",
            "Approximating using trapezoidal rule with: 45 points, percentage error: 0.08431518549339587 %\n",
            "Approximating using trapezoidal rule with: 55 points, percentage error: 0.05034522439586589 %\n",
            "Approximating using trapezoidal rule with: 65 points, percentage error: 0.03342536160164525 %\n",
            "102898.96619227252\n"
          ],
          "name": "stdout"
        }
      ]
    },
    {
      "cell_type": "markdown",
      "metadata": {
        "id": "r1p1kxJcl1of"
      },
      "source": [
        "# **Numerical integration with SCIPy library function**"
      ]
    },
    {
      "cell_type": "code",
      "metadata": {
        "id": "fMmeI-iuk3eE",
        "colab": {
          "base_uri": "https://localhost:8080/",
          "height": 34
        },
        "outputId": "8a0aa713-c6af-42f2-ade9-03471e72cf39"
      },
      "source": [
        "import scipy.integrate as integrate\n",
        "\n",
        "result = integrate.quad(lambda x: f(x), m, M)\n",
        "print(\"Integration result: \",result[0],\", error = \",result[1])"
      ],
      "execution_count": null,
      "outputs": [
        {
          "output_type": "stream",
          "text": [
            "Integration result:  102864.58333333333 , error =  1.1420262883513979e-09\n"
          ],
          "name": "stdout"
        }
      ]
    }
  ]
}